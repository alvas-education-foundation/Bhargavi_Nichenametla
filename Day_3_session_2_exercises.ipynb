{
  "nbformat": 4,
  "nbformat_minor": 0,
  "metadata": {
    "colab": {
      "name": "Day 3 session 2 exercises.ipynb",
      "provenance": [],
      "collapsed_sections": [],
      "authorship_tag": "ABX9TyMTkRX9zDztqo/l5cCHnCVL",
      "include_colab_link": true
    },
    "kernelspec": {
      "name": "python3",
      "display_name": "Python 3"
    }
  },
  "cells": [
    {
      "cell_type": "markdown",
      "metadata": {
        "id": "view-in-github",
        "colab_type": "text"
      },
      "source": [
        "<a href=\"https://colab.research.google.com/github/alvas-education-foundation/Bhargavi_Nichenametla/blob/master/Day_3_session_2_exercises.ipynb\" target=\"_parent\"><img src=\"https://colab.research.google.com/assets/colab-badge.svg\" alt=\"Open In Colab\"/></a>"
      ]
    },
    {
      "cell_type": "markdown",
      "metadata": {
        "id": "JQ1qy00gNJlK",
        "colab_type": "text"
      },
      "source": [
        "Write a Python Program to Print Multiplication Table of a  number which got through keyboard"
      ]
    },
    {
      "cell_type": "code",
      "metadata": {
        "id": "IyJP3DOPMkxC",
        "colab_type": "code",
        "colab": {
          "base_uri": "https://localhost:8080/",
          "height": 204
        },
        "outputId": "4134690a-ca61-41b5-e378-3d41a16a5fd2"
      },
      "source": [
        " \n",
        "n = int(input('Enter a no: '))\n",
        "arr = [print(n,'x',x,'=',n*x) for x in range(1,11)]"
      ],
      "execution_count": null,
      "outputs": [
        {
          "output_type": "stream",
          "text": [
            "Enter a no: 5\n",
            "5 x 1 = 5\n",
            "5 x 2 = 10\n",
            "5 x 3 = 15\n",
            "5 x 4 = 20\n",
            "5 x 5 = 25\n",
            "5 x 6 = 30\n",
            "5 x 7 = 35\n",
            "5 x 8 = 40\n",
            "5 x 9 = 45\n",
            "5 x 10 = 50\n"
          ],
          "name": "stdout"
        }
      ]
    },
    {
      "cell_type": "markdown",
      "metadata": {
        "id": "boQ-o-r2NaEY",
        "colab_type": "text"
      },
      "source": [
        " Write a  Python Program to find the Armstrong Numbers between 1 and 2000 ( i.e 153 is amtrong numbers as 1**3+5**3+3**3=153 )"
      ]
    },
    {
      "cell_type": "code",
      "metadata": {
        "id": "xS2CHaagNoey",
        "colab_type": "code",
        "colab": {
          "base_uri": "https://localhost:8080/",
          "height": 54
        },
        "outputId": "01dec443-b70b-43a2-f858-4a7b2a2c0eff"
      },
      "source": [
        " for x in range(1,2000):\n",
        "  i = str(x)\n",
        "  l = len(i)\n",
        "  ex = []\n",
        "  for y in range(l):\n",
        "    ex.append(i[y]+'**'+str(l))\n",
        "  if eval('+'.join(ex)) == x:\n",
        "    print(x,end = ' ')"
      ],
      "execution_count": null,
      "outputs": [
        {
          "output_type": "stream",
          "text": [
            "1 2 3 4 5 6 7 8 9 153 370 371 407 1634 "
          ],
          "name": "stdout"
        }
      ]
    },
    {
      "cell_type": "markdown",
      "metadata": {
        "id": "gv0sCH8KOKKb",
        "colab_type": "text"
      },
      "source": [
        " Write a python program to get the list of tuples (rollno, name) for n students by getting rollno and name through keyboard. Sort and print  them as rollno wise and name wise both ascending and descending as well as alphabetical and dealphabetical orders"
      ]
    },
    {
      "cell_type": "code",
      "metadata": {
        "id": "Fl8UFnv_ONpC",
        "colab_type": "code",
        "colab": {
          "base_uri": "https://localhost:8080/",
          "height": 224
        },
        "outputId": "f03a7d00-7d63-459d-b78d-9c874e88092e"
      },
      "source": [
        " import operator\n",
        "arr = [(int(input('Enter rollno %d: '%(x))),input('Enter name %d: '%(x))) for x in range(1,int(input('Enter no of students: '))+1)]\n",
        "print('Student details based on rollno in ascending order',sorted(arr))\n",
        "print('Student details based on rollno in descending order',sorted(arr,reverse = True))\n",
        "print('Student details based on name in ascending order',sorted(arr,key = operator.itemgetter(1)))\n",
        "print('Student details based on name in descending order',sorted(arr,key = operator.itemgetter(1),reverse = True))"
      ],
      "execution_count": null,
      "outputs": [
        {
          "output_type": "stream",
          "text": [
            "Enter no of students: 3\n",
            "Enter rollno 1: 3\n",
            "Enter name 1: Arun\n",
            "Enter rollno 2: 5\n",
            "Enter name 2: Stuart\n",
            "Enter rollno 3: 34\n",
            "Enter name 3: Little\n",
            "Student details based on rollno in ascending order [(3, 'Arun'), (5, 'Stuart'), (34, 'Little')]\n",
            "Student details based on rollno in descending order [(34, 'Little'), (5, 'Stuart'), (3, 'Arun')]\n",
            "Student details based on name in ascending order [(3, 'Arun'), (34, 'Little'), (5, 'Stuart')]\n",
            "Student details based on name in descending order [(5, 'Stuart'), (34, 'Little'), (3, 'Arun')]\n"
          ],
          "name": "stdout"
        }
      ]
    },
    {
      "cell_type": "markdown",
      "metadata": {
        "id": "wMGhYI7OP5EC",
        "colab_type": "text"
      },
      "source": [
        " Python Program to Detect if Two Strings are Anagrams ( They are  the two strings which have same length and same words which may be different in their order)"
      ]
    },
    {
      "cell_type": "code",
      "metadata": {
        "id": "zZZcCUojP8zQ",
        "colab_type": "code",
        "colab": {
          "base_uri": "https://localhost:8080/",
          "height": 88
        },
        "outputId": "28bd8bf2-eb72-4ede-af58-c5cb44f334a1"
      },
      "source": [
        " s1 = input('Enter the 1st string: ')\n",
        "s2 = input('Enter the 2nd string: ')\n",
        "if len(s1) == len(s2) and sorted(set(s1)) == sorted(set(s2)):\n",
        "  print('Strings are Anagrams')\n",
        "else:\n",
        "  print('Strings are not Anagrams')"
      ],
      "execution_count": null,
      "outputs": [
        {
          "output_type": "stream",
          "text": [
            "Enter the 1st string: Stuart Little\n",
            "Enter the 2nd string: Little\n",
            "Strings are not Anagrams\n"
          ],
          "name": "stdout"
        }
      ]
    }
  ]
}