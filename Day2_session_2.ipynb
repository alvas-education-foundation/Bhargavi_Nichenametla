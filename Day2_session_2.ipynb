{
  "nbformat": 4,
  "nbformat_minor": 0,
  "metadata": {
    "colab": {
      "name": "Day2 session 2.ipynb",
      "provenance": [],
      "collapsed_sections": [],
      "authorship_tag": "ABX9TyPGXZC8fH6iwzbs+f2CDgig",
      "include_colab_link": true
    },
    "kernelspec": {
      "name": "python3",
      "display_name": "Python 3"
    }
  },
  "cells": [
    {
      "cell_type": "markdown",
      "metadata": {
        "id": "view-in-github",
        "colab_type": "text"
      },
      "source": [
        "<a href=\"https://colab.research.google.com/github/alvas-education-foundation/Bhargavi_Nichenametla/blob/master/Day2_session_2.ipynb\" target=\"_parent\"><img src=\"https://colab.research.google.com/assets/colab-badge.svg\" alt=\"Open In Colab\"/></a>"
      ]
    },
    {
      "cell_type": "markdown",
      "metadata": {
        "id": "ED2tdG0gg6bY",
        "colab_type": "text"
      },
      "source": [
        " 1. Add rollno and marks {name:mark} for n number of students through keyboard in a dictionary and print the marks in descending order with respective name"
      ]
    },
    {
      "cell_type": "code",
      "metadata": {
        "id": "ms2Xyy8-Y10t",
        "colab_type": "code",
        "colab": {
          "base_uri": "https://localhost:8080/",
          "height": 224
        },
        "outputId": "0908100c-1f80-47c2-aaa8-a8e60f50f47e"
      },
      "source": [
        " n=int(input(\"Enter no of records: \"))\n",
        "d={}\n",
        "import operator\n",
        "for i in range(1,n+1):\n",
        "  name= input(\"Enter name %d: \"%(i))\n",
        "  mark=int(input(\"Enter mark %d: \"%(i)))\n",
        "  d[name]=mark\n",
        "print(\"input: \",d)\n",
        "sorted_a= sorted(d.items(), key=operator.itemgetter(1),reverse=True)\n",
        "print(\"output: \",sorted_a)"
      ],
      "execution_count": null,
      "outputs": [
        {
          "output_type": "stream",
          "text": [
            "Enter no of records: 4\n",
            "Enter name 1: Bhargavi\n",
            "Enter mark 1: 50\n",
            "Enter name 2: Bhavani\n",
            "Enter mark 2: 55\n",
            "Enter name 3: Venu\n",
            "Enter mark 3: 60\n",
            "Enter name 4: Radha\n",
            "Enter mark 4: 65\n",
            "input:  {'Bhargavi': 50, 'Bhavani': 55, 'Venu': 60, 'Radha': 65}\n",
            "output:  [('Radha', 65), ('Venu', 60), ('Bhavani', 55), ('Bhargavi', 50)]\n"
          ],
          "name": "stdout"
        }
      ]
    },
    {
      "cell_type": "markdown",
      "metadata": {
        "id": "EvKoGg5hZRT0",
        "colab_type": "text"
      },
      "source": [
        " Add  name and salary {name:salary} for n number of employees through keyboard in a dictionary and print them in name alphabetical order with salary"
      ]
    },
    {
      "cell_type": "code",
      "metadata": {
        "id": "H_9veocMZWY9",
        "colab_type": "code",
        "colab": {
          "base_uri": "https://localhost:8080/",
          "height": 224
        },
        "outputId": "9027ccc3-a840-4622-c36f-78f87be64701"
      },
      "source": [
        " n=int(input(\"Enter no of records: \"))\n",
        "d={}\n",
        "import operator\n",
        "for i in range(1,n+1):\n",
        "  name= input(\"Enter name %d: \"%(i))\n",
        "  s=float(input(\"Enter salary %d: \"%(i)))\n",
        "  d[name]=s\n",
        "print(\"input: \",d)\n",
        "sorted_a= sorted(d.items(), key=operator.itemgetter(0))\n",
        "print(\"output: \",sorted_a)"
      ],
      "execution_count": null,
      "outputs": [
        {
          "output_type": "stream",
          "text": [
            "Enter no of records: 4\n",
            "Enter name 1: Bhargavi\n",
            "Enter salary 1: 50\n",
            "Enter name 2: Bhavani\n",
            "Enter salary 2: 56\n",
            "Enter name 3: Venu\n",
            "Enter salary 3: 76\n",
            "Enter name 4: Radha\n",
            "Enter salary 4: 89\n",
            "input:  {'Bhargavi': 50.0, 'Bhavani': 56.0, 'Venu': 76.0, 'Radha': 89.0}\n",
            "output:  [('Bhargavi', 50.0), ('Bhavani', 56.0), ('Radha', 89.0), ('Venu', 76.0)]\n"
          ],
          "name": "stdout"
        }
      ]
    },
    {
      "cell_type": "markdown",
      "metadata": {
        "id": "b8pBjQdEZnjR",
        "colab_type": "text"
      },
      "source": [
        " Add  name and salary {name:salary} for n number of employees through keyboard in a dictionary and print them in salary  ascending order and  sum, max, min and average of the salaries"
      ]
    },
    {
      "cell_type": "code",
      "metadata": {
        "id": "AcUC6MapZnAh",
        "colab_type": "code",
        "colab": {
          "base_uri": "https://localhost:8080/",
          "height": 292
        },
        "outputId": "2bddc6e7-acfc-48b2-8455-32695d8f21c4"
      },
      "source": [
        " n=int(input(\"Enter no of employees: \"))\n",
        "d={}\n",
        "import operator\n",
        "for i in range(1,n+1):\n",
        "  name= input(\"Enter name %d: \"%(i))\n",
        "  s=float(input(\"Enter salary %d: \"%(i)))\n",
        "  d[name]=s\n",
        "print(\"input: \",d)\n",
        "sorted_a= sorted(d.items(), key=operator.itemgetter(1))\n",
        "print(\"output: \",sorted_a)\n",
        "v = d.values()\n",
        "print(\"sum: \",sum(v))\n",
        "print(\"max: \",max(v))\n",
        "print(\"min: \",min(v))\n",
        "print(\"avg: \",(sum(v)/n))"
      ],
      "execution_count": null,
      "outputs": [
        {
          "output_type": "stream",
          "text": [
            "Enter no of employees: 4\n",
            "Enter name 1: Venu\n",
            "Enter salary 1: 50000\n",
            "Enter name 2: Radha\n",
            "Enter salary 2: 34550\n",
            "Enter name 3: Bharat\n",
            "Enter salary 3: 34556\n",
            "Enter name 4: Bhavani\n",
            "Enter salary 4: 899876\n",
            "input:  {'Venu': 50000.0, 'Radha': 34550.0, 'Bharat': 34556.0, 'Bhavani': 899876.0}\n",
            "output:  [('Radha', 34550.0), ('Bharat', 34556.0), ('Venu', 50000.0), ('Bhavani', 899876.0)]\n",
            "sum:  1018982.0\n",
            "max:  899876.0\n",
            "min:  34550.0\n",
            "avg:  254745.5\n"
          ],
          "name": "stdout"
        }
      ]
    },
    {
      "cell_type": "markdown",
      "metadata": {
        "id": "6OI7GHNPcPz7",
        "colab_type": "text"
      },
      "source": [
        "4. Add name and salary {name:salary} for n number of employees through keyboard in a dictionary and print only the employees whose salary is greater than 2000 but less than 4000"
      ]
    },
    {
      "cell_type": "code",
      "metadata": {
        "id": "7uZ6Cmd-cYdO",
        "colab_type": "code",
        "colab": {
          "base_uri": "https://localhost:8080/",
          "height": 207
        },
        "outputId": "fada971b-c6ff-4938-c3a1-a322b65164d0"
      },
      "source": [
        " n=int(input(\"Enter no of employees: \"))\n",
        "d={}\n",
        "import operator\n",
        "for i in range(1,n+1):\n",
        "  name= input(\"Enter name %d: \"%(i))\n",
        "  s=int(input(\"Enter salary %d: \"%(i)))\n",
        "  d[name]=s\n",
        "print(\"input: \",d)\n",
        "for key,value in d.items():\n",
        "    if value>=2000 and value<=4000:\n",
        "         print(key,\"=\",d[key])"
      ],
      "execution_count": null,
      "outputs": [
        {
          "output_type": "stream",
          "text": [
            "Enter no of employees: 3\n",
            "Enter name 1: Wer\n",
            "Enter salary 1: 3000\n",
            "Enter name 2: Edd\n",
            "Enter salary 2: 35000\n",
            "Enter name 3: Efdf\n",
            "Enter salary 3: 3500\n",
            "input:  {'Wer': 3000, 'Edd': 35000, 'Efdf': 3500}\n",
            "Wer = 3000\n",
            "Efdf = 3500\n"
          ],
          "name": "stdout"
        }
      ]
    },
    {
      "cell_type": "markdown",
      "metadata": {
        "id": "sVuRfQtLdT7r",
        "colab_type": "text"
      },
      "source": [
        "5. Python program to convert a 3 digit number  into words"
      ]
    },
    {
      "cell_type": "code",
      "metadata": {
        "id": "6oL_k_l8dZr6",
        "colab_type": "code",
        "colab": {
          "base_uri": "https://localhost:8080/",
          "height": 68
        },
        "outputId": "6de1b19b-9a36-45d9-d08e-81cbda6aab34"
      },
      "source": [
        " def convert_to_words(num):  \n",
        "    l = len(num);    \n",
        "    if (l == 0): \n",
        "        print(\"empty string\"); \n",
        "        return; \n",
        "  \n",
        "    if (l > 4): \n",
        "        print(\"Length more than 4 is not supported\"); \n",
        "        return;   \n",
        "    single_digits = [\"zero\", \"one\", \"two\", \"three\",  \n",
        "                     \"four\", \"five\", \"six\", \"seven\",  \n",
        "                     \"eight\", \"nine\"];  \n",
        "    two_digits = [\"\", \"ten\", \"eleven\", \"twelve\",  \n",
        "                  \"thirteen\", \"fourteen\", \"fifteen\",  \n",
        "                  \"sixteen\", \"seventeen\", \"eighteen\", \n",
        "                  \"nineteen\"];  \n",
        "    tens_multiple = [\"\", \"\", \"twenty\", \"thirty\", \"forty\", \n",
        "                     \"fifty\", \"sixty\", \"seventy\", \"eighty\",  \n",
        "                     \"ninety\"]; \n",
        "    tens_power = [\"hundred\", \"thousand\"];   \n",
        "    print(num, \":\", end = \" \");   \n",
        "    if (l == 1):  \n",
        "        print(single_digits[ord(num[0]) - '0']); \n",
        "        return;  \n",
        "    x = 0; \n",
        "    while (x < len(num)):    \n",
        "        if (l >= 3): \n",
        "            if (ord(num[x]) - 48 != 0): \n",
        "                print(single_digits[ord(num[x]) - 48],  \n",
        "                                           end = \" \"); \n",
        "                print(tens_power[l - 3], end = \" \");  \n",
        "                  \n",
        "            l -= 1; \n",
        "        else:   \n",
        "            if (ord(num[x]) - 48 == 1):  \n",
        "                sum = (ord(num[x]) - 48 + \n",
        "                       ord(num[x]) - 48); \n",
        "                print(two_digits[sum]); \n",
        "                return;   \n",
        "            elif (ord(num[x]) - 48 == 2 and \n",
        "                  ord(num[x + 1]) - 48 == 0): \n",
        "                print(\"twenty\"); \n",
        "                return;  \n",
        "            else: \n",
        "                i = ord(num[x]) - 48; \n",
        "                if(i > 0): \n",
        "                    print(tens_multiple[i], end = \" \"); \n",
        "                else: \n",
        "                    print(\"\", end = \"\"); \n",
        "                x += 1; \n",
        "                if(ord(num[x]) - 48 != 0): \n",
        "                    print(single_digits[ord(num[x]) - 48]); \n",
        "        x += 1;  \n",
        "convert_to_words(\"953\"); \n",
        "convert_to_words(\"543\"); \n",
        "convert_to_words(\"143\");"
      ],
      "execution_count": null,
      "outputs": [
        {
          "output_type": "stream",
          "text": [
            "953 : nine hundred fifty three\n",
            "543 : five hundred forty three\n",
            "143 : one hundred forty three\n"
          ],
          "name": "stdout"
        }
      ]
    },
    {
      "cell_type": "markdown",
      "metadata": {
        "id": "doGKYV7hdvL_",
        "colab_type": "text"
      },
      "source": [
        " Files Exercises"
      ]
    },
    {
      "cell_type": "markdown",
      "metadata": {
        "id": "wQoNUnCdd2zb",
        "colab_type": "text"
      },
      "source": [
        " 1. Python Program to count the total number of charaters (except blank space) in a text file."
      ]
    },
    {
      "cell_type": "code",
      "metadata": {
        "id": "S89CrfaY_9FF",
        "colab_type": "code",
        "colab": {}
      },
      "source": [
        " \n",
        "input_file = input(\"Enter File name : \")\n",
        "file_txt = open(input_file)     \n",
        "text = file_txt.read()          \n",
        "charc = 0   \n",
        "for i in text:              \n",
        "    if(i != \" \" and i != \"\\n\" ):\n",
        "         charc += 1\n",
        " \n",
        "print (\"total num of characters: \",charc);"
      ],
      "execution_count": null,
      "outputs": []
    },
    {
      "cell_type": "markdown",
      "metadata": {
        "id": "_bX4STCf017c",
        "colab_type": "text"
      },
      "source": [
        "2. Python Program to print all the numbers present in a text file with its total number of occurrence."
      ]
    },
    {
      "cell_type": "code",
      "metadata": {
        "id": "uCEfpBBe1re3",
        "colab_type": "code",
        "colab": {}
      },
      "source": [
        " input_file = input(\"Enter File name : \")\n",
        "file_txt = open(input_file)     \n",
        "text = file_txt.read()  \n",
        "w = []  \n",
        "d = dict() \n",
        "for line in text: \n",
        "    line = line.strip()     \n",
        "    if(line.isdigit()):\n",
        "           w.append(line)\n",
        "for j in w:\n",
        "      if j in d:\n",
        "        d[j] = d[j] + 1\n",
        "      else: \n",
        "            d[j] = 1 \n",
        "for key in list(d.keys()): \n",
        "    print(key, \":\", d[key])"
      ],
      "execution_count": null,
      "outputs": []
    },
    {
      "cell_type": "markdown",
      "metadata": {
        "id": "bnAJ9j_T2F6U",
        "colab_type": "text"
      },
      "source": [
        "3. Python Program to append the contents of one file to another file"
      ]
    },
    {
      "cell_type": "code",
      "metadata": {
        "id": "FXY4hrr_2Vnc",
        "colab_type": "code",
        "colab": {}
      },
      "source": [
        " name1 = input(\"Enter file to be read from: \")\n",
        "name2 = input(\"Enter file to be appended to: \")\n",
        "fin = open(name1, \"r\")\n",
        "data2 = fin.read()\n",
        "fin.close()\n",
        "fout = open(name2, \"a\")\n",
        "fout.write(data2)\n",
        "fout.close()"
      ],
      "execution_count": null,
      "outputs": []
    },
    {
      "cell_type": "markdown",
      "metadata": {
        "id": "JaGb8rVX2bUt",
        "colab_type": "text"
      },
      "source": [
        "4. Python Program to read a file and capitalize the first letter of every word in the file and copy the every word capitalized content into another file and read it ."
      ]
    },
    {
      "cell_type": "code",
      "metadata": {
        "id": "tpRQZ2ff2gU9",
        "colab_type": "code",
        "colab": {}
      },
      "source": [
        " fname = input(\"Enter file name: \")\n",
        "with open(fname, 'r') as f:\n",
        "  with open(\"out.txt\", \"w\") as f1:\n",
        "    for line in f:\n",
        "        l=line.title()\n",
        "        f1.write(l)\n",
        "file2=open(\"out.txt\",'r')\n",
        "line=file2.readline()\n",
        "while(line!=\"\"):\n",
        "    print(line)\n",
        "    line=file2.readline()\n",
        "file2.close()"
      ],
      "execution_count": null,
      "outputs": []
    },
    {
      "cell_type": "markdown",
      "metadata": {
        "id": "vam_PL6z2o1u",
        "colab_type": "text"
      },
      "source": [
        "5.Python Program to count the number of blank spaces in a text file"
      ]
    },
    {
      "cell_type": "code",
      "metadata": {
        "id": "i0B7pOZb2zc5",
        "colab_type": "code",
        "colab": {}
      },
      "source": [
        " fname = input(\"Enter file name: \")\n",
        "k = 0\n",
        " \n",
        "with open(fname, 'r') as f:\n",
        "    for line in f:\n",
        "        words = line.split()\n",
        "        for i in words:\n",
        "            for letter in i:\n",
        "                if(letter.isspace):\n",
        "                    k=k+1\n",
        "print(\"Occurrences of blank spaces:\")\n",
        "print(k)"
      ],
      "execution_count": null,
      "outputs": []
    }
  ]
}