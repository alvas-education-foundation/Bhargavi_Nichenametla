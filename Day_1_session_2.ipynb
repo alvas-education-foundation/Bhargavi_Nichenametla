{
  "nbformat": 4,
  "nbformat_minor": 0,
  "metadata": {
    "colab": {
      "name": "Day 1 session 2.ipynb",
      "provenance": [],
      "collapsed_sections": [],
      "authorship_tag": "ABX9TyPZ6d9WeoKZLtWac/EaDiC1",
      "include_colab_link": true
    },
    "kernelspec": {
      "name": "python3",
      "display_name": "Python 3"
    }
  },
  "cells": [
    {
      "cell_type": "markdown",
      "metadata": {
        "id": "view-in-github",
        "colab_type": "text"
      },
      "source": [
        "<a href=\"https://colab.research.google.com/github/alvas-education-foundation/Bhargavi_Nichenametla/blob/master/Day_1_session_2.ipynb\" target=\"_parent\"><img src=\"https://colab.research.google.com/assets/colab-badge.svg\" alt=\"Open In Colab\"/></a>"
      ]
    },
    {
      "cell_type": "markdown",
      "metadata": {
        "id": "nZhvmkOprZmy",
        "colab_type": "text"
      },
      "source": [
        " 1. Write a program to print the triangle"
      ]
    },
    {
      "cell_type": "code",
      "metadata": {
        "id": "AZpYrsxZKwRb",
        "colab_type": "code",
        "colab": {
          "base_uri": "https://localhost:8080/",
          "height": 119
        },
        "outputId": "7476968f-0c6b-4001-de9e-60940ed58cf4"
      },
      "source": [
        "n=int(input(\"Enter the Number \"));\n",
        "for i in range(n+1):\n",
        "    for j in range(i):\n",
        "        print (j+i ,end=\" \")\n",
        "    print('')"
      ],
      "execution_count": null,
      "outputs": [
        {
          "output_type": "stream",
          "text": [
            "Enter the Number 4\n",
            "\n",
            "1 \n",
            "2 3 \n",
            "3 4 5 \n",
            "4 5 6 7 \n"
          ],
          "name": "stdout"
        }
      ]
    },
    {
      "cell_type": "markdown",
      "metadata": {
        "id": "GIKKHgIuVcff",
        "colab_type": "text"
      },
      "source": [
        " 2 Enter number 4"
      ]
    },
    {
      "cell_type": "code",
      "metadata": {
        "id": "YxzPK6PLKFcu",
        "colab_type": "code",
        "colab": {
          "base_uri": "https://localhost:8080/",
          "height": 102
        },
        "outputId": "8be7bdb2-34e0-4ddf-9ef7-3eec362d9e38"
      },
      "source": [
        " \n",
        "n=5;\n",
        "for i in range(n):\n",
        "    for j in range(i):\n",
        "        print ('* ', end=\"\")\n",
        "    print('')"
      ],
      "execution_count": null,
      "outputs": [
        {
          "output_type": "stream",
          "text": [
            "\n",
            "* \n",
            "* * \n",
            "* * * \n",
            "* * * * \n"
          ],
          "name": "stdout"
        }
      ]
    },
    {
      "cell_type": "markdown",
      "metadata": {
        "id": "jHpuQXYzVo7w",
        "colab_type": "text"
      },
      "source": [
        " 3 Enter number 5"
      ]
    },
    {
      "cell_type": "code",
      "metadata": {
        "id": "TxgU8kwxLjoZ",
        "colab_type": "code",
        "colab": {
          "base_uri": "https://localhost:8080/",
          "height": 136
        },
        "outputId": "2032d727-bbff-4411-f122-5600d90a2cdd"
      },
      "source": [
        " \n",
        "n=int(input(\"Enter the Number \"));\n",
        "for i in range(n+1):\n",
        "    for j in range(i,0,-1 ):\n",
        "        print (n-j+1 ,end=\" \")\n",
        "    print('')"
      ],
      "execution_count": null,
      "outputs": [
        {
          "output_type": "stream",
          "text": [
            "Enter the Number 5\n",
            "\n",
            "5 \n",
            "4 5 \n",
            "3 4 5 \n",
            "2 3 4 5 \n",
            "1 2 3 4 5 \n"
          ],
          "name": "stdout"
        }
      ]
    },
    {
      "cell_type": "markdown",
      "metadata": {
        "id": "dTeVqtg7V446",
        "colab_type": "text"
      },
      "source": [
        " 4  Enter number 5"
      ]
    },
    {
      "cell_type": "code",
      "metadata": {
        "id": "taJ4g0ODV-TJ",
        "colab_type": "code",
        "colab": {
          "base_uri": "https://localhost:8080/",
          "height": 136
        },
        "outputId": "a5473446-1504-41c9-af43-13a69cde6ff0"
      },
      "source": [
        " n=int(input(\"Enter the Number:\"));\n",
        "for i in range(0,n+1):\n",
        "    for j in range(n-i, 0, -1):\n",
        "        print (j , end=\" \")\n",
        "    print(' ')"
      ],
      "execution_count": null,
      "outputs": [
        {
          "output_type": "stream",
          "text": [
            "Enter the Number:5\n",
            "5 4 3 2 1  \n",
            "4 3 2 1  \n",
            "3 2 1  \n",
            "2 1  \n",
            "1  \n",
            " \n"
          ],
          "name": "stdout"
        }
      ]
    },
    {
      "cell_type": "markdown",
      "metadata": {
        "id": "qk3G5V--X_WX",
        "colab_type": "text"
      },
      "source": [
        " 5 Enter number 4"
      ]
    },
    {
      "cell_type": "code",
      "metadata": {
        "id": "d-jtsE0gKXLG",
        "colab_type": "code",
        "colab": {
          "base_uri": "https://localhost:8080/",
          "height": 170
        },
        "outputId": "406961f1-ca33-48da-878a-32c4e5888eef"
      },
      "source": [
        " \n",
        "n=int(input(\"Enter the Number:\"));\n",
        "for i in range(0,n+1,1):\n",
        "    print(\"\")\n",
        "    for j in range(i+1,n+1,1):\n",
        "        print(j,end=\" \")\n",
        "    \n",
        "for i in range(1,n):\n",
        "    for j in range(i+1,0,-1):\n",
        "        print(n-j+1,end=\" \")\n",
        "    print('')"
      ],
      "execution_count": null,
      "outputs": [
        {
          "output_type": "stream",
          "text": [
            "Enter the Number:4\n",
            "\n",
            "1 2 3 4 \n",
            "2 3 4 \n",
            "3 4 \n",
            "4 \n",
            "3 4 \n",
            "2 3 4 \n",
            "1 2 3 4 \n"
          ],
          "name": "stdout"
        }
      ]
    },
    {
      "cell_type": "markdown",
      "metadata": {
        "id": "NBM-tL6nYIXh",
        "colab_type": "text"
      },
      "source": [
        " 6 Find the length of a string without using len functions"
      ]
    },
    {
      "cell_type": "code",
      "metadata": {
        "id": "HUCCCnlBYNU_",
        "colab_type": "code",
        "colab": {
          "base_uri": "https://localhost:8080/",
          "height": 51
        },
        "outputId": "fe70ae4e-c609-4a66-e7d4-ee3d226a797f"
      },
      "source": [
        " str = input(\"Enter a string: \")\n",
        "num= 0\n",
        "for s in str:\n",
        "      num = num+1\n",
        "print(\"Length of the input string is:\", num)"
      ],
      "execution_count": null,
      "outputs": [
        {
          "output_type": "stream",
          "text": [
            "Enter a string: Bhargavi\n",
            "Length of the input string is: 8\n"
          ],
          "name": "stdout"
        }
      ]
    },
    {
      "cell_type": "markdown",
      "metadata": {
        "id": "H7fc9wyfZc_0",
        "colab_type": "text"
      },
      "source": [
        " 7. Find the no of words and characters in a string"
      ]
    },
    {
      "cell_type": "code",
      "metadata": {
        "id": "phXvKRxaZu6l",
        "colab_type": "code",
        "colab": {
          "base_uri": "https://localhost:8080/",
          "height": 122
        },
        "outputId": "3514e168-70c9-44da-8aa0-07e33e964064"
      },
      "source": [
        " str=input(\"Enter string:\")\n",
        "char=0\n",
        "word=1\n",
        "for i in str:\n",
        "      char=char+1\n",
        "      if(i==' '):\n",
        "            word=word+1\n",
        "print(\"Number of words in the string:\")\n",
        "print(word)\n",
        "print(\"Number of characters in the string:\")\n",
        "print(char)"
      ],
      "execution_count": null,
      "outputs": [
        {
          "output_type": "stream",
          "text": [
            "Enter string:I Love India\n",
            "Number of words in the string:\n",
            "3\n",
            "Number of characters in the string:\n",
            "12\n"
          ],
          "name": "stdout"
        }
      ]
    },
    {
      "cell_type": "markdown",
      "metadata": {
        "id": "slhx9XrsaVmV",
        "colab_type": "text"
      },
      "source": [
        " 8.Find the no of occurrences of a word in a string"
      ]
    },
    {
      "cell_type": "code",
      "metadata": {
        "id": "EC1_j1nIp7aE",
        "colab_type": "code",
        "colab": {
          "base_uri": "https://localhost:8080/",
          "height": 54
        },
        "outputId": "f441ce01-3257-4aa1-895b-284e6e142bde"
      },
      "source": [
        " \n",
        "def word_count(str):\n",
        "    counts = dict()\n",
        "    words = str.split()\n",
        " \n",
        "    for word in words:\n",
        "        if word in counts:\n",
        "            counts[word] += 1\n",
        "        else:\n",
        "            counts[word] = 1\n",
        " \n",
        "    return counts\n",
        " \n",
        "print( word_count(\"My name is Bhargavi\"))"
      ],
      "execution_count": null,
      "outputs": [
        {
          "output_type": "stream",
          "text": [
            "{'My': 1, 'name': 1, 'is': 1, 'Bhargavi': 1}\n"
          ],
          "name": "stdout"
        }
      ]
    }
  ]
}