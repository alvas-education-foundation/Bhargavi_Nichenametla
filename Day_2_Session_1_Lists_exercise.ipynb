{
  "nbformat": 4,
  "nbformat_minor": 0,
  "metadata": {
    "colab": {
      "name": "Day 2 Session 1 Lists exercise.ipynb",
      "provenance": [],
      "collapsed_sections": [],
      "authorship_tag": "ABX9TyNPQ9TrbcVgq7zgQ9xiwtcI",
      "include_colab_link": true
    },
    "kernelspec": {
      "name": "python3",
      "display_name": "Python 3"
    }
  },
  "cells": [
    {
      "cell_type": "markdown",
      "metadata": {
        "id": "view-in-github",
        "colab_type": "text"
      },
      "source": [
        "<a href=\"https://colab.research.google.com/github/alvas-education-foundation/Bhargavi_Nichenametla/blob/master/Day_2_Session_1_Lists_exercise.ipynb\" target=\"_parent\"><img src=\"https://colab.research.google.com/assets/colab-badge.svg\" alt=\"Open In Colab\"/></a>"
      ]
    },
    {
      "cell_type": "markdown",
      "metadata": {
        "id": "EMRs0N-ezpNL",
        "colab_type": "text"
      },
      "source": [
        " print multiples of 3 upto 200 using a list"
      ]
    },
    {
      "cell_type": "code",
      "metadata": {
        "id": "3BW8i51izgRk",
        "colab_type": "code",
        "colab": {
          "base_uri": "https://localhost:8080/",
          "height": 54
        },
        "outputId": "ec45807d-aa4d-4156-c5cb-692ff67c75b3"
      },
      "source": [
        "a=[]\n",
        "for j in range(3,200):\n",
        "    if (j%3== 0):\n",
        "        a.append(j)\n",
        "print(\"The multiples of 3 is: \",a)"
      ],
      "execution_count": null,
      "outputs": [
        {
          "output_type": "stream",
          "text": [
            "The multiples of 3 is:  [3, 6, 9, 12, 15, 18, 21, 24, 27, 30, 33, 36, 39, 42, 45, 48, 51, 54, 57, 60, 63, 66, 69, 72, 75, 78, 81, 84, 87, 90, 93, 96, 99, 102, 105, 108, 111, 114, 117, 120, 123, 126, 129, 132, 135, 138, 141, 144, 147, 150, 153, 156, 159, 162, 165, 168, 171, 174, 177, 180, 183, 186, 189, 192, 195, 198]\n"
          ],
          "name": "stdout"
        }
      ]
    },
    {
      "cell_type": "markdown",
      "metadata": {
        "id": "EbpL5acu0qzv",
        "colab_type": "text"
      },
      "source": [
        " 2. print the nos only divisable by 5 and 7 between 1000 and 2000 using a list( both inclusive)"
      ]
    },
    {
      "cell_type": "code",
      "metadata": {
        "id": "nnWpn5Vz2Yj5",
        "colab_type": "code",
        "colab": {
          "base_uri": "https://localhost:8080/",
          "height": 54
        },
        "outputId": "ef0c62ce-304e-40a5-cfc3-d19a5ce45c2b"
      },
      "source": [
        "a=[]\n",
        "for i in range(1000,2000):\n",
        "    if ((i%5==0) & (i%7==0)):\n",
        "        a.append(i)\n",
        "print(\"The no's divisible by 5 and 7 are:\",a)"
      ],
      "execution_count": null,
      "outputs": [
        {
          "output_type": "stream",
          "text": [
            "The no's divisible by 5 and 7 are: [1015, 1050, 1085, 1120, 1155, 1190, 1225, 1260, 1295, 1330, 1365, 1400, 1435, 1470, 1505, 1540, 1575, 1610, 1645, 1680, 1715, 1750, 1785, 1820, 1855, 1890, 1925, 1960, 1995]\n"
          ],
          "name": "stdout"
        }
      ]
    },
    {
      "cell_type": "markdown",
      "metadata": {
        "id": "_mD9TzG03gCk",
        "colab_type": "text"
      },
      "source": [
        " 3. Add the n number of names in a list and print them alphabetically and reverse alphabetically."
      ]
    },
    {
      "cell_type": "code",
      "metadata": {
        "id": "_og0apY33oyJ",
        "colab_type": "code",
        "colab": {
          "base_uri": "https://localhost:8080/",
          "height": 428
        },
        "outputId": "36658ce2-de33-4420-9844-d6e345e7e4a7"
      },
      "source": [
        " my_str = input(\"Enter a string: \")\n",
        " \n",
        "# breakdown the string into a list of words\n",
        "words = my_str.split()\n",
        " \n",
        "# sort the list\n",
        "words.sort()\n",
        " \n",
        "# display the sorted words\n",
        " \n",
        "print(\"The sorted words are:\")\n",
        "for word in words:\n",
        "   print(word)\n",
        " \n",
        "#reverse the words in list\n",
        "words.reverse()\n",
        " \n",
        "#display the reversed words\n",
        "print(\"The reverse words are:\")\n",
        "for wor in words:\n",
        "   print(wor)"
      ],
      "execution_count": null,
      "outputs": [
        {
          "output_type": "stream",
          "text": [
            "Enter a string: my name is bhargavi and i am studying in alvas\n",
            "The sorted words are:\n",
            "alvas\n",
            "am\n",
            "and\n",
            "bhargavi\n",
            "i\n",
            "in\n",
            "is\n",
            "my\n",
            "name\n",
            "studying\n",
            "The reverse words are:\n",
            "studying\n",
            "name\n",
            "my\n",
            "is\n",
            "in\n",
            "i\n",
            "bhargavi\n",
            "and\n",
            "am\n",
            "alvas\n"
          ],
          "name": "stdout"
        }
      ]
    },
    {
      "cell_type": "markdown",
      "metadata": {
        "id": "QX3YJPks6ZN-",
        "colab_type": "text"
      },
      "source": [
        " 4. Print  perfect squares and divisible by 5 between 500 and 1000( (both inclusive) using list"
      ]
    },
    {
      "cell_type": "code",
      "metadata": {
        "id": "TBAedRPA6h4S",
        "colab_type": "code",
        "colab": {
          "base_uri": "https://localhost:8080/",
          "height": 34
        },
        "outputId": "75cfdaa5-63cf-45e7-ca50-781b2423b4e4"
      },
      "source": [
        " \n",
        "def squares(a,b):\n",
        "    ab=[]\n",
        "    for i in range (a,b):\n",
        "        j=1\n",
        "        while j*j <= i:\n",
        "            if ((j*j == i) & (j%5==0)):\n",
        "                 ab.append(i)  \n",
        "            j = j+1\n",
        "        i = i+1\n",
        "    return ab\n",
        "print(squares(500,1000))"
      ],
      "execution_count": null,
      "outputs": [
        {
          "output_type": "stream",
          "text": [
            "[625, 900]\n"
          ],
          "name": "stdout"
        }
      ]
    },
    {
      "cell_type": "markdown",
      "metadata": {
        "id": "MkDmlD8T9n7O",
        "colab_type": "text"
      },
      "source": [
        " 5.Calculate the Average of  the numbers in a List by getting the elements of list from keyboard ."
      ]
    },
    {
      "cell_type": "code",
      "metadata": {
        "id": "edeFOCia-Mi0",
        "colab_type": "code",
        "colab": {
          "base_uri": "https://localhost:8080/",
          "height": 122
        },
        "outputId": "8952d28e-6c43-4d76-be64-4a6978f7a6c0"
      },
      "source": [
        " n=int(input(\"Enter the number of elements to be inserted: \"))\n",
        "a=[]\n",
        "for i in range(0,n):\n",
        "    lists=int(input(\"Enter element: \"))\n",
        "    a.append(lists)\n",
        "avg=sum(a)/n\n",
        "print(\"Average of elements in the list\",round(avg,2))"
      ],
      "execution_count": null,
      "outputs": [
        {
          "output_type": "stream",
          "text": [
            "Enter the number of elements to be inserted: 3\n",
            "Enter element: 1\n",
            "Enter element: 2\n",
            "Enter element: 3\n",
            "Average of elements in the list 2.0\n"
          ],
          "name": "stdout"
        }
      ]
    },
    {
      "cell_type": "markdown",
      "metadata": {
        "id": "WrkeWqWp_pnL",
        "colab_type": "text"
      },
      "source": [
        " 6. Print lists of odd,even and multiples of 5 numbers from 1 to 1000 using list comprehension"
      ]
    },
    {
      "cell_type": "code",
      "metadata": {
        "id": "NgFP6d1TS_n3",
        "colab_type": "code",
        "colab": {}
      },
      "source": [
        ""
      ],
      "execution_count": null,
      "outputs": []
    },
    {
      "cell_type": "markdown",
      "metadata": {
        "id": "ZpbBF42ATATz",
        "colab_type": "text"
      },
      "source": [
        "Tuples"
      ]
    },
    {
      "cell_type": "markdown",
      "metadata": {
        "id": "PhG5czITTDGy",
        "colab_type": "text"
      },
      "source": [
        " 1. Python Program to Create a List of Tuples with the First Element as the Number and Second Element as the Square of the Number"
      ]
    },
    {
      "cell_type": "code",
      "metadata": {
        "id": "LPyeMmbCTr0C",
        "colab_type": "code",
        "colab": {
          "base_uri": "https://localhost:8080/",
          "height": 85
        },
        "outputId": "ae7f8f29-2b93-453c-d6ea-f884e7daa6ea"
      },
      "source": [
        " t = [ ]\n",
        "n=int(input(\"enter the number of tuples:\"))\n",
        "for i in range(0,n):\n",
        "    e=int(input(\"Enter the number:\"))\n",
        "    t.append((e, e*e))\n",
        "print(t)"
      ],
      "execution_count": null,
      "outputs": [
        {
          "output_type": "stream",
          "text": [
            "enter the number of tuples:2\n",
            "Enter the number:3\n",
            "Enter the number:5\n",
            "[(3, 9), (5, 25)]\n"
          ],
          "name": "stdout"
        }
      ]
    },
    {
      "cell_type": "markdown",
      "metadata": {
        "id": "C1eNkZzvVAZO",
        "colab_type": "text"
      },
      "source": [
        " 2. Write python program to have a list of words  to sort them from  shortest to longest using list of tuples"
      ]
    },
    {
      "cell_type": "code",
      "metadata": {
        "id": "LLCkiEtGVFr-",
        "colab_type": "code",
        "colab": {
          "base_uri": "https://localhost:8080/",
          "height": 71
        },
        "outputId": "c6620d31-8f19-431e-f77e-ba8c5e0ea094"
      },
      "source": [
        " \n",
        "def sort(tuples):  \n",
        "    return sorted(tuples, key = lambda x: x[1] ) \n",
        " \n",
        "a = [('Bharat',45), ('Vamsi', 39), ('Anirudh', 23)] \n",
        " \n",
        "print(\"Sorted:\"), \n",
        "print(sort(a))"
      ],
      "execution_count": null,
      "outputs": [
        {
          "output_type": "stream",
          "text": [
            "Sorted:\n",
            "[('Anirudh', 23), ('Vamsi', 39), ('Bharat', 45)]\n"
          ],
          "name": "stdout"
        }
      ]
    },
    {
      "cell_type": "markdown",
      "metadata": {
        "id": "UhCSRfTpXgsy",
        "colab_type": "text"
      },
      "source": [
        " 3.Write python program to get a list of tuples of Rollno,Name for 5 students through keyboard and sort them Rollno wise ascending order"
      ]
    },
    {
      "cell_type": "code",
      "metadata": {
        "id": "i_YD5KRfXqkg",
        "colab_type": "code",
        "colab": {
          "base_uri": "https://localhost:8080/",
          "height": 241
        },
        "outputId": "859d7fa3-e9a4-462c-f3ab-1bb0d23549cd"
      },
      "source": [
        "def Sort_Tuple(tup):  \n",
        "    lst = len(tup)  \n",
        "    for i in range(0, lst):  \n",
        "        for j in range(0, lst-i-1):  \n",
        "            if (tup[j][1] > tup[j + 1][1]):  \n",
        "                temp = tup[j]  \n",
        "                tup[j]= tup[j + 1]  \n",
        "                tup[j + 1]= temp \n",
        "    return tup\n",
        "tup =[]\n",
        "num = int(input(\"Number of students:\"))\n",
        "for i in range(0,num):\n",
        "     name = input(\" Name of student: \")\n",
        "     rollnum = input(\"Roll num of the student:\")\n",
        "     tup.append((name,rollnum))\n",
        "print(Sort_Tuple(tup))"
      ],
      "execution_count": null,
      "outputs": [
        {
          "output_type": "stream",
          "text": [
            "Number of students:5\n",
            " Name of student: Abc\n",
            "Roll num of the student:1\n",
            " Name of student: Bvg\n",
            "Roll num of the student:2\n",
            " Name of student: Ert\n",
            "Roll num of the student:3\n",
            " Name of student: Yuh\n",
            "Roll num of the student:4\n",
            " Name of student: Eryh\n",
            "Roll num of the student:5\n",
            "[('Abc', '1'), ('Bvg', '2'), ('Ert', '3'), ('Yuh', '4'), ('Eryh', '5')]\n"
          ],
          "name": "stdout"
        }
      ]
    },
    {
      "cell_type": "markdown",
      "metadata": {
        "id": "rWVelgVP-vo9",
        "colab_type": "text"
      },
      "source": [
        " 4.Write python program to get a list of tuples of Rollno,Name for 5 students through keyboard and sort them by Rollno wise descending order"
      ]
    },
    {
      "cell_type": "code",
      "metadata": {
        "id": "X3uDmC37_1PR",
        "colab_type": "code",
        "colab": {}
      },
      "source": [
        " def Sort_Tuple(tup):  \n",
        "    lst = len(tup)  \n",
        "    for i in range(0, lst):  \n",
        "        for j in range(0, lst-i-1):  \n",
        "            if (tup[j][1]<tup[j + 1][1]):  \n",
        "                temp = tup[j]  \n",
        "                tup[j]= tup[j + 1]  \n",
        "                tup[j + 1]= temp \n",
        "    return tup\n",
        "tup =[]\n",
        "num = int(input(\"Number of students:\"))\n",
        "for i in range(0,num):\n",
        "     name = input(\" Name of student: \")\n",
        "     rollnum = input(\"Roll num of the student:\")\n",
        "     tup.append((name,rollnum))\n",
        "print(Sort_Tuple(tup))"
      ],
      "execution_count": null,
      "outputs": []
    },
    {
      "cell_type": "markdown",
      "metadata": {
        "id": "NjsHAN96Feg3",
        "colab_type": "text"
      },
      "source": [
        " Write python program to get a list of tuples of Rollno,Name for 5 students through keyboard and sort them by Name wise ascending order"
      ]
    },
    {
      "cell_type": "code",
      "metadata": {
        "id": "g9uy7UmtF3BL",
        "colab_type": "code",
        "colab": {}
      },
      "source": [
        " def Sort_Tuple(tup):  \n",
        "    lst = len(tup)  \n",
        "    for i in range(0, lst):  \n",
        "        for j in range(0, lst-i-1):  \n",
        "            if (tup[j][0] > tup[j + 1][0]):  \n",
        "                temp = tup[j]  \n",
        "                tup[j]= tup[j + 1]  \n",
        "                tup[j + 1]= temp \n",
        "    return tup\n",
        "tup =[]\n",
        "num = int(input(\"Number of students:\"))\n",
        "for i in range(0,num):\n",
        "     name = input(\" Name of student: \")\n",
        "     rollnum = input(\"Roll num of the student:\")\n",
        "     tup.append((name,rollnum))\n",
        "print(Sort_Tuple(tup))"
      ],
      "execution_count": null,
      "outputs": []
    },
    {
      "cell_type": "markdown",
      "metadata": {
        "id": "ySMw_YO3F73G",
        "colab_type": "text"
      },
      "source": [
        " Write python program to get a list of tuples of Rollno,Name for 5 students through keyboard and sort them by Name wise descending order"
      ]
    },
    {
      "cell_type": "code",
      "metadata": {
        "id": "wcKuWin2GCI-",
        "colab_type": "code",
        "colab": {}
      },
      "source": [
        " def Sort_Tuple(tup):  \n",
        "    lst = len(tup)  \n",
        "    for i in range(0, lst):  \n",
        "        for j in range(0, lst-i-1):  \n",
        "            if (tup[j][0] < tup[j + 1][0]):  \n",
        "                temp = tup[j]  \n",
        "                tup[j]= tup[j + 1]  \n",
        "                tup[j + 1]= temp \n",
        "    return tup\n",
        "tup =[]\n",
        "num = int(input(\"Number of students:\"))\n",
        "for i in range(0,num):\n",
        "     name = input(\" Name of student: \")\n",
        "     rollnum = input(\"Roll num of the student:\")\n",
        "     tup.append((name,rollnum))\n",
        "print(Sort_Tuple(tup))"
      ],
      "execution_count": null,
      "outputs": []
    }
  ]
}